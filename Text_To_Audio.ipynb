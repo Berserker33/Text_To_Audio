{
 "cells": [
  {
   "cell_type": "code",
   "execution_count": 15,
   "id": "e06e5e59-4361-466b-9b45-4d88bdb95b9c",
   "metadata": {},
   "outputs": [],
   "source": [
    "import pyttsx3"
   ]
  },
  {
   "cell_type": "code",
   "execution_count": 11,
   "id": "19bc5f82-4609-48e0-ac1a-97b60ac51426",
   "metadata": {},
   "outputs": [],
   "source": [
    "# Open the text file\n",
    "file_path = r\"C:\\Users\\shiva\\Desktop\\New Text Document.txt\"\n",
    "with open(file_path, \"r\", encoding=\"utf-8\") as book:\n",
    "    book_text = book.read()"
   ]
  },
  {
   "cell_type": "code",
   "execution_count": 13,
   "id": "9105a5b8-7251-4da0-a0b5-c969fedfe48c",
   "metadata": {},
   "outputs": [],
   "source": [
    "# Initialize the pyttsx3 engine\n",
    "engine = pyttsx3.init()\n",
    "\n",
    "# Temporary WAV file path\n",
    "temp_wav_file = \"temp_audio.wav\"\n",
    "\n",
    "# Save the text-to-speech output to a WAV file\n",
    "engine.save_to_file(book_text, temp_wav_file)\n",
    "engine.runAndWait()"
   ]
  }
 ],
 "metadata": {
  "kernelspec": {
   "display_name": "Python [conda env:base] *",
   "language": "python",
   "name": "conda-base-py"
  },
  "language_info": {
   "codemirror_mode": {
    "name": "ipython",
    "version": 3
   },
   "file_extension": ".py",
   "mimetype": "text/x-python",
   "name": "python",
   "nbconvert_exporter": "python",
   "pygments_lexer": "ipython3",
   "version": "3.12.7"
  }
 },
 "nbformat": 4,
 "nbformat_minor": 5
}
